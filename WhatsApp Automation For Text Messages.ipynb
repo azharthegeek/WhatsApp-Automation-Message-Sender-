{
 "cells": [
  {
   "cell_type": "code",
   "execution_count": null,
   "id": "ae328b7f",
   "metadata": {},
   "outputs": [],
   "source": [
    "#CSV file only containe the number of Customers\n",
    "#this code automatically detect which number is on whatsapp or not, and send the message\n",
    "\n",
    "import csv\n",
    "import itertools\n",
    "file_name = \"filename.csv\"\n",
    "try:\n",
    "    csvfile = open(file_name, \"rt\", encoding=\"utf8\")\n",
    "except:\n",
    "    print(\"File not found\")\n",
    "csvReader = csv.reader(csvfile, delimiter=\",\")\n",
    "l =  list()\n",
    "for row in csvReader:\n",
    "    l.append((row[:]))\n",
    "print(l)\n",
    "l  = list(set(list(itertools.chain.from_iterable(l)))) #Line Credit Data Analytics Ireland https://dataanalyticsireland.ie/category/unhashable-type-error/"
   ]
  },
  {
   "cell_type": "code",
   "execution_count": null,
   "id": "04801616",
   "metadata": {},
   "outputs": [],
   "source": [
    "#To Get Unique Values\n",
    "l = set(l)\n",
    "l = list(l)"
   ]
  },
  {
   "cell_type": "code",
   "execution_count": null,
   "id": "89595362",
   "metadata": {},
   "outputs": [],
   "source": [
    "print(\"Length Of Avaible Data : \"+ str(len(l)))\n",
    "#l.remove('number of client')  # Removing Individual from data records\n",
    "firstloop=l[1853:2100]  # run the program in chunks to balance the load\n",
    "print(\"Length Of Sliced Data : \"+ str(len(firstloop))) # Length of the batch\n",
    "all_names = firstloop\n",
    "len(all_names)"
   ]
  },
  {
   "cell_type": "code",
   "execution_count": null,
   "id": "d5e565a0",
   "metadata": {},
   "outputs": [],
   "source": [
    "#Version4\n",
    "from selenium import webdriver\n",
    "import win32api, win32con\n",
    "import keyboard\n",
    "import click\n",
    "import time\n",
    "import winsound"
   ]
  },
  {
   "cell_type": "code",
   "execution_count": null,
   "id": "breeding-commission",
   "metadata": {},
   "outputs": [],
   "source": [
    "successfully_send = 0\n",
    "failed_List = []\n",
    "failtosend =0\n",
    "driver = webdriver.Chrome(executable_path=\"chromedriver.exe\")\n",
    "driver.implicitly_wait(90)\n",
    "driver.get(\"https://web.whatsapp.com/\")\n",
    "driver.maximize_window()\n",
    "driver.implicitly_wait(90)\n",
    "time.sleep(120)\n",
    "loopcount=0\n",
    "count = 0\n",
    "\n",
    "\n",
    "for name in all_names:\n",
    "    name = str(name)\n",
    "    name = list(name)\n",
    "    name = name[-7:]\n",
    "    name = \"\".join(name)\n",
    "    loopcount+=1\n",
    "    try:\n",
    "        driver.implicitly_wait(10)\n",
    "        user = driver.find_element(\"xpath\",\"/html/body/div[1]/div/div/div[3]/header/div[2]/div/span/div[2]/div/span\")\n",
    "        \n",
    "        user.click()\n",
    "        driver.implicitly_wait(10)\n",
    "        user = driver.find_element(\"xpath\",\"/html/body/div[1]/div/div/div[2]/div[1]/span/div/span/div/div[1]/div/div/div[2]/div/div[2]\").send_keys(name)\n",
    "        driver.implicitly_wait(10)\n",
    "        \n",
    "        user= driver.find_element(\"xpath\",'//*[@id=\"app\"]/div[1]/div[1]/div[2]/div[1]/span/div[1]/span/div[1]/div[2]/div[1]/div/div/div[2]/div/div/div[2]').click()\n",
    "        driver.implicitly_wait(10)\n",
    "        time.sleep(2)\n",
    "\n",
    "\n",
    "        driver.implicitly_wait(10)\n",
    "        msg_box = driver.find_element(\"xpath\",'//*[@id=\"main\"]/footer/div[1]/div[2]/div/div[2]').send_keys(msg)\n",
    "        driver.implicitly_wait(10)\n",
    "        button = driver.find_element(\"xpath\",'//*[@id=\"main\"]/footer/div[1]/div[3]/button/span')\n",
    "        driver.implicitly_wait(10)\n",
    "        button.click()\n",
    "    \n",
    "        user = driver.find_element(\"xpath\",'//*[@id=\"side\"]/div[1]/div/label/div/div[2]').clear()\n",
    "        driver.implicitly_wait(10)\n",
    "        print(\"Successfully Send Message to : \"+ name + '\\n')\n",
    "        successfully_send+=1\n",
    "    except:\n",
    "        driver.find_element(\"xpath\",\"/html/body/div[1]/div/div/div[2]/div[1]/span/div/span/div/header/div/div[1]/button/span\").click()\n",
    "        print(\"Cannot find Target: \" + name)\n",
    "        failed_List.append(name)\n",
    "        failtosend+=1\n",
    "        print(\"Loop Number\"+ str(loopcount) + '\\n')"
   ]
  },
  {
   "cell_type": "code",
   "execution_count": null,
   "id": "graphic-faculty",
   "metadata": {},
   "outputs": [],
   "source": [
    "#Done #WhatsApp +923120001547  Message me if you get any type of error"
   ]
  }
 ],
 "metadata": {
  "kernelspec": {
   "display_name": "Python 3 (ipykernel)",
   "language": "python",
   "name": "python3"
  },
  "language_info": {
   "codemirror_mode": {
    "name": "ipython",
    "version": 3
   },
   "file_extension": ".py",
   "mimetype": "text/x-python",
   "name": "python",
   "nbconvert_exporter": "python",
   "pygments_lexer": "ipython3",
   "version": "3.9.12"
  }
 },
 "nbformat": 4,
 "nbformat_minor": 5
}
