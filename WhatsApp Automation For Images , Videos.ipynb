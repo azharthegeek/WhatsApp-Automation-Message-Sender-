{
 "cells": [
  {
   "cell_type": "code",
   "execution_count": null,
   "id": "mechanical-stage",
   "metadata": {},
   "outputs": [],
   "source": [
    "#CSV file only containe the number of Customers\n",
    "#this code automatically detect which number is on whatsapp or not, and send the message\n",
    "\n",
    "import csv\n",
    "import itertools\n",
    "file_name = \"filename.csv\"\n",
    "try:\n",
    "    csvfile = open(file_name, \"rt\", encoding=\"utf8\")\n",
    "except:\n",
    "    print(\"File not found\")\n",
    "csvReader = csv.reader(csvfile, delimiter=\",\")\n",
    "l =  list()\n",
    "for row in csvReader:\n",
    "    l.append((row[:]))\n",
    "print(l)\n",
    "l  = list(set(list(itertools.chain.from_iterable(l)))) #Line Credit Data Analytics Ireland https://dataanalyticsireland.ie/category/unhashable-type-error/"
   ]
  },
  {
   "cell_type": "code",
   "execution_count": null,
   "id": "13aa9122",
   "metadata": {},
   "outputs": [],
   "source": [
    "#To Get Unique Values\n",
    "l = set(l)\n",
    "l = list(l)"
   ]
  },
  {
   "cell_type": "code",
   "execution_count": null,
   "id": "d539f0a8",
   "metadata": {},
   "outputs": [],
   "source": [
    "print(\"Length Of Avaible Data : \"+ str(len(l)))\n",
    "#l.remove('number of client')  # Removing Individual from data records\n",
    "firstloop=l[1853:2100]  # run the program in chunks to balance the load\n",
    "print(\"Length Of Sliced Data : \"+ str(len(firstloop))) # Length of the batch"
   ]
  },
  {
   "cell_type": "code",
   "execution_count": null,
   "id": "75441ced",
   "metadata": {},
   "outputs": [],
   "source": [
    "#Version4\n",
    "from selenium import webdriver\n",
    "import win32api, win32con\n",
    "import keyboard\n",
    "import click\n",
    "import time\n",
    "import winsound"
   ]
  },
  {
   "cell_type": "code",
   "execution_count": null,
   "id": "official-means",
   "metadata": {},
   "outputs": [],
   "source": [
    "\n",
    "successfully_send = 0\n",
    "failed_List = []\n",
    "\n",
    "\n",
    "failtosend =0\n",
    "driver = webdriver.Chrome(executable_path=\"chromedriver.exe\")\n",
    "driver.implicitly_wait(90)\n",
    "driver.get(\"https://web.whatsapp.com/\")\n",
    "driver.maximize_window()\n",
    "driver.implicitly_wait(90)\n",
    "time.sleep(120)\n",
    "loopcount=0\n",
    "count = 0\n",
    "\n",
    "\n",
    "for name in all_names:\n",
    "    name = str(name)\n",
    "    name = list(name)\n",
    "    name = name[-7:]\n",
    "    name = \"\".join(name)\n",
    "    loopcount+=1\n",
    "    try:\n",
    "        driver.implicitly_wait(10)\n",
    "        user = driver.find_element(\"xpath\",\"/html/body/div[1]/div/div/div[3]/header/div[2]/div/span/div[2]/div/span\")\n",
    "        \n",
    "        user.click()\n",
    "        driver.implicitly_wait(10)\n",
    "        user = driver.find_element(\"xpath\",\"/html/body/div[1]/div/div/div[2]/div[1]/span/div/span/div/div[1]/div/div/div[2]/div/div[2]\").send_keys(name)\n",
    "        driver.implicitly_wait(10)\n",
    "        \n",
    "        user= driver.find_element(\"xpath\",'//*[@id=\"app\"]/div[1]/div[1]/div[2]/div[1]/span/div[1]/span/div[1]/div[2]/div[1]/div/div/div[2]/div/div/div[2]').click()\n",
    "        driver.implicitly_wait(10)\n",
    "        time.sleep(2)\n",
    "        \n",
    "    #----------------------------------------------------------------------\n",
    "        \n",
    "        attachment_box = driver.find_element(\"xpath\",\"/html/body/div[1]/div/div/div[4]/div/footer/div[1]/div/span[2]/div/div[1]/div[2]/div/div/span\")\n",
    "        driver.implicitly_wait(10)\n",
    "        attachment_box.click()\n",
    "        driver.implicitly_wait(10)\n",
    "        image_box = driver.find_element(\"xpath\",\"/html/body/div[1]/div/div/div[4]/div/footer/div[1]/div/span[2]/div/div[1]/div[2]/div/span/div/div/ul/li[1]/button/input\")\n",
    "        image_box.send_keys(\"D:/Unique Traders WM/filename.jpeg\")\n",
    "        driver.implicitly_wait(10) \n",
    "        send_button = driver.find_element(\"xpath\",'//*[@id=\"app\"]/div/div/div[2]/div[2]/span/div/span/div/div/div[2]/div/div[2]/div[2]/div/div/span')\n",
    "        driver.implicitly_wait(10)\n",
    "        send_button.click()  \n",
    "        print(\"Successfully Send Message to : \"+ name + ' ' ,end=\" \")\n",
    "        successfully_send+=1\n",
    "        print(\"Loop Number\"+ str(loopcount) + ' ')\n",
    "        \n",
    "    except:\n",
    "        #time.sleep(2)\n",
    "        driver.find_element(\"xpath\",\"/html/body/div[1]/div/div/div[2]/div[1]/span/div/span/div/header/div/div[1]/button/span\").click()\n",
    "        print(\"Cannot find Target: \" + name)\n",
    "        failed_List.append(name)\n",
    "        failtosend+=1\n",
    "        #loopcount+=1\n",
    "        print(\"Loop Number\"+ str(loopcount) + '\\n')\n",
    "%time"
   ]
  },
  {
   "cell_type": "code",
   "execution_count": 1,
   "id": "private-analysis",
   "metadata": {},
   "outputs": [],
   "source": [
    "#Done #WhatsApp +923120001547  Message me if you get any type of error"
   ]
  }
 ],
 "metadata": {
  "kernelspec": {
   "display_name": "Python 3 (ipykernel)",
   "language": "python",
   "name": "python3"
  },
  "language_info": {
   "codemirror_mode": {
    "name": "ipython",
    "version": 3
   },
   "file_extension": ".py",
   "mimetype": "text/x-python",
   "name": "python",
   "nbconvert_exporter": "python",
   "pygments_lexer": "ipython3",
   "version": "3.9.12"
  }
 },
 "nbformat": 4,
 "nbformat_minor": 5
}
